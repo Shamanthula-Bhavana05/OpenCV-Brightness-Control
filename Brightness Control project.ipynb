{
 "cells": [
  {
   "cell_type": "markdown",
   "id": "4bfdf627-5625-4ee7-a58a-888750063e89",
   "metadata": {},
   "source": [
    "# OpenCV -- Brightness Control Project"
   ]
  },
  {
   "cell_type": "markdown",
   "id": "ba5ff983-0c3e-4e5b-95da-422f53b02062",
   "metadata": {},
   "source": [
    "## To control the brightness of the image."
   ]
  },
  {
   "cell_type": "code",
   "execution_count": null,
   "id": "d92b4b6c-66d4-49eb-b96f-b3d0af121153",
   "metadata": {},
   "outputs": [],
   "source": [
    "### to control the brightness of the image.\n",
    "## independent of brightness and darkness trackbars\n",
    "\n",
    "import cv2\n",
    "import numpy as np\n",
    "\n",
    "## reading img\n",
    "img = cv2.imread(r\"C:\\Users\\bhava\\OneDrive\\Desktop\\computer vision\\Nature.jpeg\")\n",
    "\n",
    "## creation of reference namedWindow\n",
    "cv2.namedWindow('Brightness Control',cv2.WINDOW_FREERATIO)\n",
    "\n",
    "def f1(x):\n",
    "    pass\n",
    "## creation of trackbars\n",
    "cv2.createTrackbar('Brightness','Brightness Control',0,255,f1)\n",
    "cv2.createTrackbar('Darkness','Brightness Control',0,255,f1)\n",
    "cv2.imshow('Brightness Control',img) # to show the original image\n",
    "\n",
    "# to store the previous trackbar positions\n",
    "br = 0\n",
    "dr = 0\n",
    "\n",
    "while True:\n",
    "    br2 = br # updating previous brightness value\n",
    "    br = cv2.getTrackbarPos('Brightness','Brightness Control') # tracking current brightness value\n",
    "    dr2 = dr # updating previous darkness value\n",
    "    dr = cv2.getTrackbarPos('Darkness','Brightness Control') # tracking current darkness value\n",
    "\n",
    "    # checking change in brightness or darkness and updating the image\n",
    "    if br != br2 :\n",
    "        cv2.imshow('Brightness Control',cv2.add(img,br))\n",
    "    elif dr != dr2:\n",
    "        cv2.imshow('Brightness Control',cv2.add(img,-dr))\n",
    "\n",
    "    # waitkey for 1 millisecond\n",
    "    if cv2.waitKey(1) in [ord('q') , ord('Q')]:\n",
    "        break\n",
    "cv2.destroyAllWindows()"
   ]
  },
  {
   "cell_type": "code",
   "execution_count": null,
   "id": "af5153be-838e-4078-80e5-9e2434f12af0",
   "metadata": {},
   "outputs": [],
   "source": []
  }
 ],
 "metadata": {
  "kernelspec": {
   "display_name": "Python 3 (ipykernel)",
   "language": "python",
   "name": "python3"
  },
  "language_info": {
   "codemirror_mode": {
    "name": "ipython",
    "version": 3
   },
   "file_extension": ".py",
   "mimetype": "text/x-python",
   "name": "python",
   "nbconvert_exporter": "python",
   "pygments_lexer": "ipython3",
   "version": "3.13.3"
  }
 },
 "nbformat": 4,
 "nbformat_minor": 5
}
